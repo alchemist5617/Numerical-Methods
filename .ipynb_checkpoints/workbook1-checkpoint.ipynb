{
 "cells": [
  {
   "cell_type": "markdown",
   "metadata": {},
   "source": [
    "# MA943 - Numerical Methods"
   ]
  },
  {
   "cell_type": "markdown",
   "metadata": {},
   "source": [
    "## Question 1: Precision of floating point arithmetic\n",
    "\n",
    "Consider the recursion relation\n",
    "\n",
    "$a_{n+1} = 2\\, a_n - \\frac{8}{9}\\, a_{n-1}$\n",
    "\n",
    "with the initial conditions $a_1=1$ and $a_2=\\frac{2}{3}$. \n",
    "\n",
    "1. Calculate the first 80 terms in this sequence using single precision floating point arithmetic (Float32 in Julia). Plot the resulting sequence on a lin-log plot.\n",
    "\n",
    "2. Repeat the calculation using double precision floating point arithmetic (Float64 in Julia) and add the results to to your plot.\n",
    "\n",
    "3. Find the **general** solution of the recursion relation analytically (it should contain two arbitrary constants). Hint: start from the ansatz $a_n = x^n$ and find the the allowed values of $x$.\n",
    "\n",
    "4. Find the solution that satisfies the initial conditions $a_1=1$ and $a_2=\\frac{2}{3}$. \n",
    "\n",
    "5. Find the solution that satisfies the perturbed initial conditions $a_1=1$ and $a_2=\\frac{2}{3}+\\epsilon$. Use the answer to explain your numerical results.\n",
    "\n",
    "6. Julia supports arbitrary precision floating point arithmetic using the BigFloat type (see https://docs.julialang.org/en/latest/manual/integers-and-floating-point-numbers/#Arbitrary-Precision-Arithmetic-1). Try to reproduce the exact solution for the first 80 terms in the sequence using 128 bit precision and show the results on your plot."
   ]
  },
  {
   "cell_type": "code",
   "execution_count": 4,
   "metadata": {},
   "outputs": [
    {
     "name": "stdout",
     "output_type": "stream",
     "text": [
      "Fetching package metadata .............\n",
      "Solving package specifications: .\n",
      "\n",
      "Package plan for installation in environment C:\\Users\\mohammad\\.julia\\v0.6\\Conda\\deps\\usr:\n",
      "\n",
      "The following NEW packages will be INSTALLED:\n",
      "\n",
      "    mpmath: 0.19-py27h2868657_2  \n",
      "\n",
      "The following packages will be UPDATED:\n",
      "\n",
      "    conda:  4.3.27-py27hcd9d231_0 --> 4.3.30-py27he817781_0\n",
      "\n",
      "mpmath-0.19-py 100% |###############################| Time: 0:00:00   2.32 MB/s 0:00:00   2.35 MB/s\n",
      "conda-4.3.30-p 100% |###############################| Time: 0:00:00   2.50 MB/s\n"
     ]
    }
   ],
   "source": [
    "using Conda\n",
    "Conda.add(\"mpmath\")"
   ]
  },
  {
   "cell_type": "code",
   "execution_count": 6,
   "metadata": {},
   "outputs": [
    {
     "ename": "LoadError",
     "evalue": "\u001b[91mUndefVarError: S not defined\u001b[39m",
     "output_type": "error",
     "traceback": [
      "\u001b[91mUndefVarError: S not defined\u001b[39m",
      "",
      "Stacktrace:",
      " [1] \u001b[1minclude_string\u001b[22m\u001b[22m\u001b[1m(\u001b[22m\u001b[22m::String, ::String\u001b[1m)\u001b[22m\u001b[22m at \u001b[1m.\\loading.jl:515\u001b[22m\u001b[22m"
     ]
    }
   ],
   "source": [
    "using PyPlot\n",
    "a=zeros(Float32,80)\n",
    "a_d=zeros(80)\n",
    "a_b=zeros(BigFloat,80)\n",
    "a[1]=1\n",
    "a[2]=2/3\n",
    "a_d[1]=1\n",
    "a_d[2]=2/3S\n",
    "a_b[1]=BigFloat(1)\n",
    "a_b[2]=BigFloat(2)/BigFloat(3)\n",
    "for i=3:80\n",
    "    a[i]=2*a[i-1]-(8/9)*a[i-2]\n",
    "    a_d[i]=2*a_d[i-1]-(8/9)*a_d[i-2]\n",
    "    a_b[i]=BigFloat(2)*a_b[i-1]-(BigFloat(8)/BigFloat(9))*a_b[i-2]\n",
    "end\n",
    "semilogy(a,label=\"Float32\")\n",
    "semilogy(a_d,label=\"Float64\")\n",
    "semilogy(a_b,label=\"Big Float\")\n",
    "xlabel(\"n\")\n",
    "ylabel(\"a(n)\")\n",
    "legend()\n",
    "grid();"
   ]
  },
  {
   "cell_type": "markdown",
   "metadata": {},
   "source": [
    "## Question 2: Computational complexity of the mergesort algorithm\n",
    "\n",
    "Consider two arrays of integers, A and B, having lengths n and m respectively. Assuming that the elements of A and B are already sorted in ascending order. The following recursive function merges them to return an array of length n+m whose elements are sorted in ascending order:\n",
    "\n"
   ]
  },
  {
   "cell_type": "code",
   "execution_count": 2,
   "metadata": {},
   "outputs": [
    {
     "data": {
      "text/plain": [
       "8-element Array{Int64,1}:\n",
       " 1\n",
       " 2\n",
       " 2\n",
       " 3\n",
       " 4\n",
       " 6\n",
       " 7\n",
       " 8"
      ]
     },
     "execution_count": 2,
     "metadata": {},
     "output_type": "execute_result"
    }
   ],
   "source": [
    "function mergepresorted(A::Array{Int64,1}, B::Array{Int64,1})\n",
    "    if length(A) == 0\n",
    "        return B\n",
    "    elseif length(B) == 0\n",
    "        return A\n",
    "    elseif A[1] < B[1]\n",
    "        return vcat([A[1]], mergepresorted(A[2:end], B))\n",
    "    else\n",
    "        return vcat([B[1]], mergepresorted(A, B[2:end]))\n",
    "    end    \n",
    "end\n",
    "\n",
    "a = [1,2,3,4]\n",
    "b = [2,6,7,8]\n",
    "mergepresorted(a,b)"
   ]
  },
  {
   "cell_type": "markdown",
   "metadata": {},
   "source": [
    "The computational complexity of this function is $n+m$.\n",
    "\n",
    "1. Verify that the function mergepresorted(A, B) works as described.\n",
    "2. Write a recursive function that implements the mergesort algorithm for an array of integers whose length, $n$ is a power of 2: $n=2^m$. Verify that it works by generating some arrays of random integers and using your function to sort them.\n",
    "3. Explain why the computational complexity, $F(n)$, of your mergesort algorithm satisfies the recursion\n",
    "> $F(n) = 2\\, F(\\frac{n}{2}) + n\\ \\ \\ \\ $ with initial condition $F(1)=1$.  \n",
    "4. Introduce the new variable p defined by $n = 2^p$ and let $b_p = F(2^p)$. Show that in these variables the above equation takes the form\n",
    "> $b_p = 2 b_{p−1} + 2^p\\ \\ \\ \\ $ with initial condition $b_0 = 1$.\n",
    "5. Find the general solution to the associated homogeneous recursion relation (ie without the $2^p$ term).\n",
    "6. Find a particular solution of the original inhomogenous recursion relation and use the initial condition to determine the constant in the homogenous solution.\n",
    "7. Hence show that the computational complexity of the mergesort algorithm is\n",
    "> $F(n) = O(n\\, \\log n)$.\n",
    "8. Use Julia's @timed macro to measure the execution time of your mergesort function for arrays of lengths $\\{2^i : i =1 : 15\\}$. Compare the results to the theoretical expectations."
   ]
  },
  {
   "cell_type": "code",
   "execution_count": 3,
   "metadata": {},
   "outputs": [
    {
     "data": {
      "text/plain": [
       "16-element Array{Int64,1}:\n",
       "  5\n",
       " 11\n",
       " 12\n",
       " 12\n",
       " 16\n",
       " 18\n",
       " 30\n",
       " 34\n",
       " 38\n",
       " 41\n",
       " 42\n",
       " 43\n",
       " 45\n",
       " 67\n",
       " 73\n",
       " 84"
      ]
     },
     "execution_count": 3,
     "metadata": {},
     "output_type": "execute_result"
    }
   ],
   "source": [
    "function mergeSort(A)\n",
    "    n = length(A)\n",
    "    if n==1\n",
    "        return A\n",
    "    else\n",
    "        m = n/2\n",
    "        m = Int(m)\n",
    "        return mergepresorted(mergeSort(A[1:m]), mergeSort(A[m+1:n]))\n",
    "    end\n",
    "end\n",
    "\n",
    "a = rand(1:100,16)\n",
    "a = mergeSort(a)\n",
    "\n"
   ]
  },
  {
   "cell_type": "code",
   "execution_count": 4,
   "metadata": {},
   "outputs": [],
   "source": [
    "time = zeros(15)\n",
    "time_t= zeros(15)\n",
    "for i=1:15\n",
    "    n = 2^i\n",
    "    a = rand(1:40000,n)\n",
    "    t = @timed mergeSort(a)\n",
    "    time[i] = t[2]\n",
    "    time_t[i] = (n)*(log(n))*time[1]\n",
    "end;"
   ]
  },
  {
   "cell_type": "code",
   "execution_count": 7,
   "metadata": {},
   "outputs": [
    {
     "data": {
      "image/png": "[encoded data removed]",
      "text/plain": [
       "PyPlot.Figure(PyObject <matplotlib.figure.Figure object at 0x00000000D3A7A550>)"
      ]
     },
     "metadata": {},
     "output_type": "display_data"
    }
   ],
   "source": [
    "using PyPlot\n",
    "i = 1:15\n",
    "semilogy(i, time,label=\"Real Time\")\n",
    "semilogy(i, time_t,label=\"Theoretical Time\")\n",
    "xlabel(\"i\")S\n",
    "ylabel(\"time\")\n",
    "legend()\n",
    "grid();"
   ]
  },
  {
   "cell_type": "code",
   "execution_count": null,
   "metadata": {
    "collapsed": true
   },
   "outputs": [],
   "source": []
  }
 ],
 "metadata": {
  "anaconda-cloud": {},
  "kernelspec": {
   "display_name": "Julia 0.6.0",
   "language": "julia",
   "name": "julia-0.6"
  },
  "language_info": {
   "file_extension": ".jl",
   "mimetype": "application/julia",
   "name": "julia",
   "version": "0.6.0"
  }
 },
 "nbformat": 4,
 "nbformat_minor": 1
}
