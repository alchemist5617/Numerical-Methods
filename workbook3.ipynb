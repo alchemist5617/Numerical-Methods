{
 "cells": [
  {
   "cell_type": "markdown",
   "metadata": {},
   "source": [
    "# MA934 Numerical Methods - Workbook 3\n",
    "\n",
    "If you haven't already done so, install the DualNumbers Julia package. It is a good idea to update all your packages first. The commands are\n",
    "\n",
    ">Pkg.update()\n",
    "\n",
    ">Pkg.add(\"DualNumbers\")\n",
    "\n",
    "but you only need to run them once. "
   ]
  },
  {
   "cell_type": "code",
   "execution_count": 21,
   "metadata": {
    "collapsed": true
   },
   "outputs": [],
   "source": [
    "using PyPlot"
   ]
  },
  {
   "cell_type": "code",
   "execution_count": 1,
   "metadata": {},
   "outputs": [
    {
     "name": "stderr",
     "output_type": "stream",
     "text": [
      "\u001b[1m\u001b[36mINFO: \u001b[39m\u001b[22m\u001b[36mPackage DualNumbers is already installed\n",
      "\u001b[39m\u001b[1m\u001b[36mINFO: \u001b[39m\u001b[22m\u001b[36mMETADATA is out-of-date — you may not have the latest version of DualNumbers\n",
      "\u001b[39m\u001b[1m\u001b[36mINFO: \u001b[39m\u001b[22m\u001b[36mUse `Pkg.update()` to get the latest versions of your packages\n",
      "\u001b[39m"
     ]
    }
   ],
   "source": [
    "#Pkg.update()\n",
    "Pkg.add(\"DualNumbers\")\n",
    "#using Plots\n",
    "using DualNumbers"
   ]
  },
  {
   "cell_type": "markdown",
   "metadata": {},
   "source": [
    "## Question 1: Numerical differentiation\n",
    "\n",
    "**1))** Derive a finite difference formula for the derivative of a function, $f$ at a point $x$ using the 3-point stencil $(x, x+h, x+2h)$ and state the order of the approximation error in terms of $h$.\n",
    "\n",
    "**2)** Write a formula for the derivative, $f^\\prime(x)$, of the function\n",
    "\n",
    "$$f(x) = \\sin(\\exp(x)) $$\n",
    "\n",
    "and evaluate it at $x=1$.\n",
    "\n",
    "**3)** Use your finite difference formula to approximate the value of $f^\\prime(1)$ for values of $h$ decreasing from $2^{-1}$ to $2^{-30}$ in powers of $2$. Plot the error as a function of $h$ and verify the theoretically predicted scaling of the error with $h$. What is the best relative error you can achieve?\n",
    "\n",
    "**4)** Read the examples at https://github.com/JuliaDiff/DualNumbers.jl. Define a dual number $x = 1+\\epsilon$ and use it to evaluate $f^\\prime(1)$. Verify that the answer is accurate to within machine precision."
   ]
  },
  {
   "cell_type": "markdown",
   "metadata": {},
   "source": [
    "** Part 1 **\n",
    "\n",
    "Using taylor expansion to find $f_{i+1} = f(x+h)$ and $f_{i+2} = f(x+2h)$:\n",
    "\n",
    "$f(x+h) = f(x) + hf'(x) + \\dfrac{h^2}{2}f''(x) + O(h^3)$\n",
    "\n",
    "$f(x+2h) = f(x) + 2hf'(x) + \\dfrac{4h^2}{2}f''(x) + O(h^3)$\n",
    "\n",
    "Consideing the linear combination $a_1f_i + a_2f_{i+1} + a_3f_{i+2}$:\n",
    "\n",
    "$a_1f_i + a_2f_{i+1} + a_3f_{i+2} = (a_1 + a_2 + a_3)f(x) + (a_2 + 2a_3)hf'(x) + (\\dfrac{a_2}{2} + 2a_3)h^2 f''(x) $\n",
    "\n",
    "Choosing the values of $a_1,a_2$ and $a_3$ to satisfy:\n",
    "\n",
    "$ a_1 + a_2 + a_3 = 0 $\n",
    "\n",
    "$ a_2 + 2a_3 = 1 $\n",
    "\n",
    "$\\dfrac{a_2}{2} + 2a_3 = 0$\n",
    "\n",
    "Therefore $ a_1 = -\\dfrac{3}{2}, a_2 = 2, a_3 = -\\dfrac{1}{2} \\rightarrow\\ hf'(x) = -\\dfrac{3}{2}f(x) + 2f(x+h) -\\dfrac{1}{2} f(x+2h) + O(h^3)$\n",
    "\n",
    "$f'(x) = \\dfrac{-3f(x)+4f(x+h)-f(x+2h)}{2h} + O(h^2) $\n"
   ]
  },
  {
   "cell_type": "markdown",
   "metadata": {},
   "source": [
    "** Part 2 **\n",
    "\n",
    "$f'(x) = \\dfrac{-3sin(e^x)+4sin(e^{x+h})-sin(e^{x+2h})}{2h}$\n",
    "\n",
    "$f'(x) = \\dfrac{-3sin(e)+4sin(e^{1+h})-sin(e^{1+2h})}{2h}$"
   ]
  },
  {
   "cell_type": "code",
   "execution_count": 66,
   "metadata": {},
   "outputs": [
    {
     "data": {
      "image/png": "[encoded data removed]",
      "text/plain": [
       "PyPlot.Figure(PyObject <matplotlib.figure.Figure object at 0x000000002CB98F28>)"
      ]
     },
     "metadata": {},
     "output_type": "display_data"
    }
   ],
   "source": [
    "# Part 3\n",
    "\n",
    "f(x) = sin(exp(x))                                       # The function\n",
    "f_p(x) = exp(x)*cos(exp(x))                              # The derivative of the function\n",
    "\n",
    "error = zeros(30)\n",
    "f_prim = zeros(30)\n",
    "\n",
    "for i=1:30\n",
    "    h=2.0^(-i)                                           \n",
    "    f_prim[i] = (-3*f(1)+4*f(1+h)-f(1+2*h))/(2*h)       #3-points stencil\n",
    "    error[i] = f_p(1) - f_prim[i]\n",
    "end\n",
    "\n",
    "semilogy(error,\"o:\",label = \"3-points stencil\")\n",
    "xlabel(\"h\")\n",
    "ylabel(\"Error\")\n",
    "legend()\n",
    "title(\"The error as a function of h \")\n",
    "grid();"
   ]
  },
  {
   "cell_type": "markdown",
   "metadata": {},
   "source": [
    "The best relative error is achieved when h=18 and it was 1.4567813622079484e-10."
   ]
  },
  {
   "cell_type": "code",
   "execution_count": 65,
   "metadata": {},
   "outputs": [
    {
     "data": {
      "text/plain": [
       "true"
      ]
     },
     "execution_count": 65,
     "metadata": {},
     "output_type": "execute_result"
    }
   ],
   "source": [
    "# Part 4\n",
    "\n",
    "x = Dual(1,1)\n",
    "y = f(x)\n",
    "abs(f_p(1) - dualpart(y))<eps()"
   ]
  },
  {
   "cell_type": "markdown",
   "metadata": {},
   "source": [
    "## Question 2: Finding roots\n",
    "\n",
    "**1)** Referring to the function, $f(x)$, defined above, find the roots of the equation\n",
    "\n",
    "$$ f(x) = 0$$\n",
    "\n",
    "in the interval $0<x<2$.\n",
    "\n",
    "**2)** Implement the bracketing and bisection method to find one of the roots numerically. Measure the error at each iteration of the algorithm and demonstrate that the error decreases exponentially as a function of the number of iterations. To how many digits of precision can you approximate the root?\n",
    "\n",
    "**3)** Perform the same measurements for the Newton Raphson method and show that the error decreases faster than exponentially as a function of the number of iterations."
   ]
  },
  {
   "cell_type": "code",
   "execution_count": null,
   "metadata": {},
   "outputs": [],
   "source": []
  },
  {
   "cell_type": "markdown",
   "metadata": {},
   "source": [
    "## Question 3: Finding minima\n",
    "\n",
    "**1)** The function $f(x)$ above has a single minimum in the interval $0<x<2$. Find its location analytically.\n",
    "\n",
    "**2)** Implement the Golden section search to find the location of this minimum numerically. Plot the error as a function of the number of iterations. To how many digits of precision can you approximate the location of the minimum?\n",
    "\n",
    "**3)** To understand your empirical findings, use Taylor's Theorem to show that near a minimum, $x_*$, of f(x),\n",
    "\n",
    "$$f(x) \\approx f(x_*)\\left( 1+ \\frac{f^{\\prime\\prime}(x_*)}{2\\,f(x_*)}\\,(x-x_*)^2\\right). $$\n",
    "Show that in order for a computer to distinguish between $f(x)$ and $f(x_*)$ we must have\n",
    "\n",
    "$$ \\left| x-x_*\\right| > \\sqrt{\\epsilon_m}\\,\\sqrt{\\left|\\frac{2\\,f(x_*)}{f^{\\prime\\prime}(x_*)}\\right|}$$\n",
    "\n",
    "thus limiting the precision with which the location of a minimum can be determined."
   ]
  },
  {
   "cell_type": "code",
   "execution_count": null,
   "metadata": {
    "collapsed": true
   },
   "outputs": [],
   "source": []
  },
  {
   "cell_type": "code",
   "execution_count": null,
   "metadata": {
    "collapsed": true
   },
   "outputs": [],
   "source": []
  }
 ],
 "metadata": {
  "kernelspec": {
   "display_name": "Julia 0.6.0",
   "language": "julia",
   "name": "julia-0.6"
  },
  "language_info": {
   "file_extension": ".jl",
   "mimetype": "application/julia",
   "name": "julia",
   "version": "0.6.0"
  }
 },
 "nbformat": 4,
 "nbformat_minor": 1
}
